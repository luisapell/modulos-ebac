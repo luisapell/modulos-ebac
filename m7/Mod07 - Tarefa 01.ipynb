{
 "cells": [
  {
   "cell_type": "markdown",
   "metadata": {},
   "source": [
    "# Módulo 07, Tarefa 01\n",
    "\n",
    "Vamos começar a mexer na nossa base de projeto? Já fizemos um exercício de montar a variável resposta, já pudemos perceber que essa atividade pode não ser trivial. Vamos agora trabalhar a base para que fique propícia ao *scikitlearn* para trabalharmos.\n",
    "\n",
    "Lembrando, a base se chama demo01.csv, e originalmente está publicada [aqui](https://www.kaggle.com/rikdifos/credit-card-approval-prediction)."
   ]
  },
  {
   "cell_type": "markdown",
   "metadata": {},
   "source": [
    "#### 1) Carregue a base e avalie:\n",
    "\n",
    "- As variáveis\n",
    "- Tipos de dados de cada variável\n",
    "- Quantidade de missings\n",
    "- Distribuição da variável resposta (mau)"
   ]
  },
  {
   "cell_type": "code",
   "execution_count": 1,
   "metadata": {},
   "outputs": [
    {
     "name": "stdout",
     "output_type": "stream",
     "text": [
      "<class 'pandas.core.frame.DataFrame'>\n",
      "RangeIndex: 16650 entries, 0 to 16649\n",
      "Data columns (total 16 columns):\n",
      " #   Column                 Non-Null Count  Dtype  \n",
      "---  ------                 --------------  -----  \n",
      " 0   sexo                   16650 non-null  object \n",
      " 1   posse_de_veiculo       16650 non-null  object \n",
      " 2   posse_de_imovel        16650 non-null  object \n",
      " 3   qtd_filhos             16650 non-null  int64  \n",
      " 4   tipo_renda             16650 non-null  object \n",
      " 5   educacao               16650 non-null  object \n",
      " 6   estado_civil           16650 non-null  object \n",
      " 7   tipo_residencia        16650 non-null  object \n",
      " 8   idade                  16650 non-null  float64\n",
      " 9   tempo_emprego          16650 non-null  float64\n",
      " 10  possui_celular         16650 non-null  int64  \n",
      " 11  possui_fone_comercial  16650 non-null  int64  \n",
      " 12  possui_fone            16650 non-null  int64  \n",
      " 13  possui_email           16650 non-null  int64  \n",
      " 14  qt_pessoas_residencia  16650 non-null  float64\n",
      " 15  mau                    16650 non-null  bool   \n",
      "dtypes: bool(1), float64(3), int64(5), object(7)\n",
      "memory usage: 1.9+ MB\n",
      "None\n",
      "sexo                     0\n",
      "posse_de_veiculo         0\n",
      "posse_de_imovel          0\n",
      "qtd_filhos               0\n",
      "tipo_renda               0\n",
      "educacao                 0\n",
      "estado_civil             0\n",
      "tipo_residencia          0\n",
      "idade                    0\n",
      "tempo_emprego            0\n",
      "possui_celular           0\n",
      "possui_fone_comercial    0\n",
      "possui_fone              0\n",
      "possui_email             0\n",
      "qt_pessoas_residencia    0\n",
      "mau                      0\n",
      "dtype: int64\n",
      "mau\n",
      "False    16260\n",
      "True       390\n",
      "Name: count, dtype: int64\n"
     ]
    }
   ],
   "source": [
    "import pandas as pd\n",
    "\n",
    "# Carregando a base\n",
    "base = pd.read_csv('demo01.csv')\n",
    "\n",
    "# 1) Variáveis e tipos de dados\n",
    "print(base.info())\n",
    "\n",
    "# 2) Quantidade de missings\n",
    "print(base.isnull().sum())\n",
    "\n",
    "# 3) Distribuição da variável resposta (mau)\n",
    "print(base['mau'].value_counts())"
   ]
  },
  {
   "cell_type": "markdown",
   "metadata": {},
   "source": [
    "#### 2) Vamos montar um metadados\n",
    "\n",
    "1. Crie um dataframe com os nomes de cada variável e o tipo de dados de cada variável.\n",
    "2. Adicione uma coluna nesse *dataframe* chamada \"qtd_categorias\" e coloque nela o número de categorias correspondente de cada variável. \n",
    "    Dica: \n",
    "        1. inicie uma lista vazia\n",
    "        2. faça um for ao longo dos nomes das variáveis, \n",
    "        3. conte o número de categorias dessa variável \n",
    "        4. acumule essa informação de 3. na lista que você criou em 1. \n",
    "        5. No final, essa lista pode ser atribuída à nossa variável.\n",
    "3. Crie variáveis dummy para as variáveis necessárias (i.e. aquelas que são qualitativas e não estão armazenadas como {0, 1} ou {True, False}."
   ]
  },
  {
   "cell_type": "code",
   "execution_count": 2,
   "metadata": {},
   "outputs": [
    {
     "name": "stdout",
     "output_type": "stream",
     "text": [
      "                                    variavel     tipo  qtd_categorias\n",
      "sexo                                    sexo   object               2\n",
      "posse_de_veiculo            posse_de_veiculo   object               2\n",
      "posse_de_imovel              posse_de_imovel   object               2\n",
      "qtd_filhos                        qtd_filhos    int64               8\n",
      "tipo_renda                        tipo_renda   object               5\n",
      "educacao                            educacao   object               5\n",
      "estado_civil                    estado_civil   object               5\n",
      "tipo_residencia              tipo_residencia   object               6\n",
      "idade                                  idade  float64            5298\n",
      "tempo_emprego                  tempo_emprego  float64            3005\n",
      "possui_celular                possui_celular    int64               1\n",
      "possui_fone_comercial  possui_fone_comercial    int64               2\n",
      "possui_fone                      possui_fone    int64               2\n",
      "possui_email                    possui_email    int64               2\n",
      "qt_pessoas_residencia  qt_pessoas_residencia  float64               9\n",
      "mau                                      mau     bool               2\n"
     ]
    }
   ],
   "source": [
    "# Criando um dataframe para metadados\n",
    "metadata = pd.DataFrame({'variavel': base.columns, 'tipo': base.dtypes})\n",
    "\n",
    "# Adicionando a quantidade de categorias\n",
    "qtd_categorias = []\n",
    "for column in base.columns:\n",
    "    qtd_categorias.append(base[column].nunique())\n",
    "\n",
    "metadata['qtd_categorias'] = qtd_categorias\n",
    "\n",
    "print(metadata)"
   ]
  },
  {
   "cell_type": "markdown",
   "metadata": {},
   "source": [
    "#### 3) Crie variáveis dummy para as variáveis necessárias (i.e. aquelas que são qualitativas e não estão armazenadas como {0, 1} ou {True, False}. Crie um *dataframe* apenas com as variáveis apropriadas para entrada no scikitlearn - elimine as variáveis tipo *str*, mantendo apenas suas versões *dummy*."
   ]
  },
  {
   "cell_type": "code",
   "execution_count": 3,
   "metadata": {},
   "outputs": [
    {
     "name": "stdout",
     "output_type": "stream",
     "text": [
      "   qtd_filhos      idade  tempo_emprego  possui_celular  \\\n",
      "0           0  58.832877       3.106849               1   \n",
      "1           0  52.356164       8.358904               1   \n",
      "2           0  52.356164       8.358904               1   \n",
      "3           0  46.224658       2.106849               1   \n",
      "4           0  29.230137       3.021918               1   \n",
      "\n",
      "   possui_fone_comercial  possui_fone  possui_email  qt_pessoas_residencia  \n",
      "0                      0            0             0                    2.0  \n",
      "1                      0            1             1                    1.0  \n",
      "2                      0            1             1                    1.0  \n",
      "3                      1            1             1                    2.0  \n",
      "4                      0            0             0                    2.0  \n"
     ]
    }
   ],
   "source": [
    "# Identificando as variáveis qualitativas\n",
    "variaveis_qualitativas = base.select_dtypes(include=['object']).columns\n",
    "\n",
    "# Criando variáveis dummy para as variáveis qualitativas\n",
    "base_dummy = pd.get_dummies(base, columns=variaveis_qualitativas)\n",
    "\n",
    "# Mantendo apenas as variáveis dummy para entrada no scikit-learn\n",
    "base_dummy = base_dummy.select_dtypes(include=['int', 'float', 'uint8'])\n",
    "\n",
    "print(base_dummy.head())"
   ]
  },
  {
   "cell_type": "markdown",
   "metadata": {},
   "source": [
    "#### 4) Qual variável é mais poderosa?\n",
    "\n",
    "Considere as variáveis ```possui_email``` e ```posse_de_veiculo```. Faça uma tabela cruzada entre elas e responda qual delas te parece mais poderosa para prever a probabilidade de ```mau = 1```?"
   ]
  },
  {
   "cell_type": "code",
   "execution_count": 4,
   "metadata": {},
   "outputs": [
    {
     "name": "stdout",
     "output_type": "stream",
     "text": [
      "posse_de_veiculo     N     Y\n",
      "possui_email                \n",
      "0                 9341  5829\n",
      "1                  837   643\n"
     ]
    }
   ],
   "source": [
    "# Tabela cruzada entre as variáveis possui_email e posse_de_veiculo\n",
    "crosstab = pd.crosstab(base['possui_email'], base['posse_de_veiculo'])\n",
    "\n",
    "print(crosstab)"
   ]
  },
  {
   "cell_type": "markdown",
   "metadata": {},
   "source": [
    "#### 5) Salve a base, pois ela será utilizada no final deste módulo."
   ]
  },
  {
   "cell_type": "code",
   "execution_count": 5,
   "metadata": {},
   "outputs": [
    {
     "name": "stdout",
     "output_type": "stream",
     "text": [
      "   qtd_filhos      idade  tempo_emprego  possui_celular  \\\n",
      "0           0  58.832877       3.106849               1   \n",
      "1           0  52.356164       8.358904               1   \n",
      "2           0  52.356164       8.358904               1   \n",
      "3           0  46.224658       2.106849               1   \n",
      "4           0  29.230137       3.021918               1   \n",
      "\n",
      "   possui_fone_comercial  possui_fone  possui_email  qt_pessoas_residencia  \n",
      "0                      0            0             0                    2.0  \n",
      "1                      0            1             1                    1.0  \n",
      "2                      0            1             1                    1.0  \n",
      "3                      1            1             1                    2.0  \n",
      "4                      0            0             0                    2.0  \n"
     ]
    }
   ],
   "source": [
    "base_dummy.to_csv('base_preprocessada.csv', index=False)\n",
    "# Para ver o que foi salvo:\n",
    "base_processada = pd.read_csv('base_preprocessada.csv')\n",
    "print(base_processada.head())"
   ]
  }
 ],
 "metadata": {
  "kernelspec": {
   "display_name": "Python 3 (ipykernel)",
   "language": "python",
   "name": "python3"
  },
  "language_info": {
   "codemirror_mode": {
    "name": "ipython",
    "version": 3
   },
   "file_extension": ".py",
   "mimetype": "text/x-python",
   "name": "python",
   "nbconvert_exporter": "python",
   "pygments_lexer": "ipython3",
   "version": "3.11.5"
  }
 },
 "nbformat": 4,
 "nbformat_minor": 4
}
