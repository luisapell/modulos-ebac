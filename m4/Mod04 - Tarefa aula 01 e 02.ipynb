{
 "cells": [
  {
   "cell_type": "markdown",
   "metadata": {},
   "source": [
    "# Tarefa 01\n",
    "\n",
    "- Leia os enunciados com atenção\n",
    "- Saiba que pode haver mais de uma resposta correta\n",
    "- Insira novas células de código sempre que achar necessário\n",
    "- Em caso de dúvidas, procure os tutores\n",
    "- Divirta-se :)\n",
    "\n",
    "#### 1)  crie uma série do pandas a partir de uma lista com os dados abaixo:\n",
    "\n",
    "Em um estudo sobre alteração na tempreatura global, A NASA disponibiliza dados de diferenças de de temperatura média da superfície terrestre relativos às médias de temperatura entre 1951 e 1980. Os dados originais podem ser vistos no site da NASA/GISS, e estão dispostos a cada década na tabela abaixo.\n",
    "\n",
    "|ano|anomalia termica|\n",
    "|:-:|:----:|\n",
    "| 1900 | -0.08 |\n",
    "| 1920 | -0.27 |\n",
    "| 1940 | 0.12 |\n",
    "| 1960 | -0.03 |\n",
    "| 1980 | 0.26 |\n",
    "| 2000 | 0.40 |\n",
    "| 2020 | 1.02 |\n",
    "\n",
    "Crie uma séries do Pandas a partir de uma lista com esses dados."
   ]
  },
  {
   "cell_type": "code",
   "execution_count": 1,
   "metadata": {},
   "outputs": [
    {
     "name": "stdout",
     "output_type": "stream",
     "text": [
      "1900   -0.08\n",
      "1920   -0.27\n",
      "1940    0.12\n",
      "1960   -0.03\n",
      "1980    0.26\n",
      "2000    0.40\n",
      "2020    1.02\n",
      "dtype: float64\n"
     ]
    }
   ],
   "source": [
    "import pandas as pd\n",
    "import numpy as np\n",
    "\n",
    "# Seu código aqui\n",
    "dados = {\n",
    "    1900: -0.08,\n",
    "    1920: -0.27,\n",
    "    1940: 0.12,\n",
    "    1960: -0.03,\n",
    "    1980: 0.26,\n",
    "    2000: 0.40,\n",
    "    2020: 1.02\n",
    "}\n",
    "\n",
    "serie_temperaturas = pd.Series(dados)\n",
    "print(serie_temperaturas)"
   ]
  },
  {
   "cell_type": "markdown",
   "metadata": {},
   "source": [
    "#### 2) Coloque os anos nos índices conforme a tabela."
   ]
  },
  {
   "cell_type": "code",
   "execution_count": 2,
   "metadata": {},
   "outputs": [
    {
     "name": "stdout",
     "output_type": "stream",
     "text": [
      "1900   -0.08\n",
      "1920   -0.27\n",
      "1940    0.12\n",
      "1960   -0.03\n",
      "1980    0.26\n",
      "2000    0.40\n",
      "2020    1.02\n",
      "dtype: float64\n"
     ]
    }
   ],
   "source": [
    "# seu código aqui\n",
    "anos = [1900, 1920, 1940, 1960, 1980, 2000, 2020]\n",
    "anomalias_termicas = [-0.08, -0.27, 0.12, -0.03, 0.26, 0.40, 1.02]\n",
    "\n",
    "serie_temperaturas = pd.Series(anomalias_termicas, index=anos)\n",
    "\n",
    "print(serie_temperaturas)"
   ]
  },
  {
   "cell_type": "markdown",
   "metadata": {},
   "source": [
    "#### 3) A partir do dicionário abaixo, crie uma séries do Pandas:"
   ]
  },
  {
   "cell_type": "code",
   "execution_count": 3,
   "metadata": {},
   "outputs": [
    {
     "name": "stdout",
     "output_type": "stream",
     "text": [
      "1900   -0.08\n",
      "1920   -0.27\n",
      "1940    0.12\n",
      "1960   -0.03\n",
      "1980    0.26\n",
      "2000    0.40\n",
      "2020    1.02\n",
      "dtype: float64\n"
     ]
    }
   ],
   "source": [
    "dic_temperaturas = {1900: -.08, 1920: -.27, 1940: .12, 1960: -.03, 1980: .26, 2000: .40, 2020: 1.02}\n",
    "\n",
    "# seu código aqui\n",
    "serie_temperaturas = pd.Series(dic_temperaturas)\n",
    "print(serie_temperaturas)"
   ]
  },
  {
   "cell_type": "markdown",
   "metadata": {},
   "source": [
    "#### 4) Transforme o ndarray abaixo em um dataframe. \n",
    "O numpy é capaz de gerar arrays n-dimensionais com números pseudo-aleatórios de acordo com uma variedade de distribuições, como no exemplo abaixo. Transforme esse nd-array em um DataFrame."
   ]
  },
  {
   "cell_type": "code",
   "execution_count": 4,
   "metadata": {},
   "outputs": [
    {
     "name": "stdout",
     "output_type": "stream",
     "text": [
      "             0           1           2\n",
      "0   103.816212  105.000884  103.827380\n",
      "1   108.251321   96.155814   91.113307\n",
      "2    92.068139   97.506994   96.421309\n",
      "3    95.526416   99.825220   95.541065\n",
      "4    98.909785   84.409810  101.733463\n",
      "5    92.878737  101.114559  100.937383\n",
      "6    99.338075  101.456229  105.270444\n",
      "7   101.978459   88.456235  100.912060\n",
      "8   101.192309  100.816928   96.042343\n",
      "9    91.992697  100.773321   92.837465\n",
      "10  110.828101   88.767694  115.592376\n",
      "11   90.250657  126.950782   88.504160\n",
      "12   96.145971  104.035064  103.104934\n",
      "13  109.034315  114.583149   95.974431\n",
      "14  102.038031  100.085388  110.711581\n",
      "15   89.602823  101.557816  112.764456\n",
      "16   98.907154   81.677803  122.768200\n",
      "17   88.911865   99.106820   87.628336\n",
      "18  109.745457  111.020354  104.222598\n",
      "19  100.837900  108.152464  112.691250\n"
     ]
    }
   ],
   "source": [
    "arr = np.random.normal(100, 10, (20,3))\n",
    "\n",
    "# seu código aqui\n",
    "df = pd.DataFrame(arr)\n",
    "print(df)"
   ]
  },
  {
   "cell_type": "markdown",
   "metadata": {},
   "source": [
    "#### 5) Nomeie os índices das linhas com inteiros de 1 a 20, e as colunas com os nomes \"x1\", \"x2\", e \"x3\" respectivamente."
   ]
  },
  {
   "cell_type": "code",
   "execution_count": 5,
   "metadata": {},
   "outputs": [
    {
     "name": "stdout",
     "output_type": "stream",
     "text": [
      "            x1          x2          x3\n",
      "1   108.337767  106.784371  103.727473\n",
      "2    93.502675   84.742859   94.888238\n",
      "3   102.648834  107.034740  106.164013\n",
      "4   100.249736   90.880730  119.062356\n",
      "5    81.132620   90.382548   89.290127\n",
      "6   116.880872   81.970027  111.126358\n",
      "7   112.844419  101.800245  102.811548\n",
      "8    88.242900   93.857893   79.918974\n",
      "9    87.549368  109.603073   91.245623\n",
      "10   95.288078  100.695837   86.683797\n",
      "11  106.164316   91.925479   80.822747\n",
      "12   92.818313  101.367589   96.766741\n",
      "13  112.039168   91.094465  103.971126\n",
      "14  102.575511  117.098303   95.653433\n",
      "15  116.680522  100.492703   86.772406\n",
      "16  114.134309   95.539837   91.478112\n",
      "17  111.179764   97.812233  109.780915\n",
      "18  109.924185   72.807547   80.902136\n",
      "19   88.902775  103.640622   97.388504\n",
      "20  104.189132  120.426449  101.874935\n"
     ]
    }
   ],
   "source": [
    "#seu código aqui\n",
    "arr = np.random.normal(100, 10, (20, 3))\n",
    "\n",
    "# Criando o DataFrame com índices e colunas nomeados\n",
    "df = pd.DataFrame(arr, index=range(1, 21), columns=['x1', 'x2', 'x3'])\n",
    "\n",
    "# Exibindo o DataFrame criado\n",
    "print(df)"
   ]
  },
  {
   "cell_type": "markdown",
   "metadata": {},
   "source": [
    "#### 6) No DataFrame do exercício 5, crie uma nova coluna como sendo a média das três colunas, e dê a ela o nome de \"media\" (não recomendo colocar acentos em nomes de variáveis)."
   ]
  },
  {
   "cell_type": "code",
   "execution_count": 6,
   "metadata": {},
   "outputs": [
    {
     "name": "stdout",
     "output_type": "stream",
     "text": [
      "            x1          x2          x3       media\n",
      "1   108.337767  106.784371  103.727473  106.283204\n",
      "2    93.502675   84.742859   94.888238   91.044590\n",
      "3   102.648834  107.034740  106.164013  105.282529\n",
      "4   100.249736   90.880730  119.062356  103.397608\n",
      "5    81.132620   90.382548   89.290127   86.935098\n",
      "6   116.880872   81.970027  111.126358  103.325753\n",
      "7   112.844419  101.800245  102.811548  105.818738\n",
      "8    88.242900   93.857893   79.918974   87.339922\n",
      "9    87.549368  109.603073   91.245623   96.132688\n",
      "10   95.288078  100.695837   86.683797   94.222571\n",
      "11  106.164316   91.925479   80.822747   92.970847\n",
      "12   92.818313  101.367589   96.766741   96.984214\n",
      "13  112.039168   91.094465  103.971126  102.368253\n",
      "14  102.575511  117.098303   95.653433  105.109083\n",
      "15  116.680522  100.492703   86.772406  101.315210\n",
      "16  114.134309   95.539837   91.478112  100.384086\n",
      "17  111.179764   97.812233  109.780915  106.257637\n",
      "18  109.924185   72.807547   80.902136   87.877956\n",
      "19   88.902775  103.640622   97.388504   96.643967\n",
      "20  104.189132  120.426449  101.874935  108.830172\n"
     ]
    }
   ],
   "source": [
    "# seu código aqui\n",
    "df['media'] = df.mean(axis=1)\n",
    "print(df)"
   ]
  },
  {
   "cell_type": "markdown",
   "metadata": {},
   "source": [
    "#### 7) No DataFrame do exercício 6, crie uma nova coluna chamada \"log_med\", contendo o logaritmo natural da média calculada no exercício 6 <br>"
   ]
  },
  {
   "cell_type": "code",
   "execution_count": 7,
   "metadata": {},
   "outputs": [
    {
     "name": "stdout",
     "output_type": "stream",
     "text": [
      "            x1          x2          x3       media   log_med\n",
      "1   108.337767  106.784371  103.727473  106.283204  4.666107\n",
      "2    93.502675   84.742859   94.888238   91.044590  4.511349\n",
      "3   102.648834  107.034740  106.164013  105.282529  4.656647\n",
      "4   100.249736   90.880730  119.062356  103.397608  4.638582\n",
      "5    81.132620   90.382548   89.290127   86.935098  4.465162\n",
      "6   116.880872   81.970027  111.126358  103.325753  4.637887\n",
      "7   112.844419  101.800245  102.811548  105.818738  4.661728\n",
      "8    88.242900   93.857893   79.918974   87.339922  4.469808\n",
      "9    87.549368  109.603073   91.245623   96.132688  4.565729\n",
      "10   95.288078  100.695837   86.683797   94.222571  4.545660\n",
      "11  106.164316   91.925479   80.822747   92.970847  4.532286\n",
      "12   92.818313  101.367589   96.766741   96.984214  4.574548\n",
      "13  112.039168   91.094465  103.971126  102.368253  4.628577\n",
      "14  102.575511  117.098303   95.653433  105.109083  4.654999\n",
      "15  116.680522  100.492703   86.772406  101.315210  4.618237\n",
      "16  114.134309   95.539837   91.478112  100.384086  4.609004\n",
      "17  111.179764   97.812233  109.780915  106.257637  4.665867\n",
      "18  109.924185   72.807547   80.902136   87.877956  4.475949\n",
      "19   88.902775  103.640622   97.388504   96.643967  4.571034\n",
      "20  104.189132  120.426449  101.874935  108.830172  4.689789\n"
     ]
    }
   ],
   "source": [
    "# seu código aqui\n",
    "df['log_med'] = np.log(df['media'])\n",
    "print(df)"
   ]
  }
 ],
 "metadata": {
  "kernelspec": {
   "display_name": "Python 3 (ipykernel)",
   "language": "python",
   "name": "python3"
  },
  "language_info": {
   "codemirror_mode": {
    "name": "ipython",
    "version": 3
   },
   "file_extension": ".py",
   "mimetype": "text/x-python",
   "name": "python",
   "nbconvert_exporter": "python",
   "pygments_lexer": "ipython3",
   "version": "3.11.5"
  }
 },
 "nbformat": 4,
 "nbformat_minor": 4
}
